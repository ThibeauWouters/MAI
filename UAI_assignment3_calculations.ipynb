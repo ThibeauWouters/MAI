{
 "cells": [
  {
   "cell_type": "markdown",
   "id": "90a33e6d",
   "metadata": {},
   "source": [
    "# UAI assignment 3"
   ]
  },
  {
   "cell_type": "markdown",
   "id": "a9aff8e0",
   "metadata": {},
   "source": [
    "Define the parameters:"
   ]
  },
  {
   "cell_type": "code",
   "execution_count": 2,
   "id": "cb6da0ff",
   "metadata": {},
   "outputs": [],
   "source": [
    "thetaR = 0.5\n",
    "\n",
    "thetaW1 = 0.9\n",
    "thetaW0 = 0.5\n",
    "\n",
    "thetaW01 = 0.3\n",
    "thetaW11 = 0.99\n",
    "thetaW00 = 0.1\n",
    "thetaW10 = 0.9\n",
    "\n",
    "thetaS1 = 0.9\n",
    "thetaS0 = 0.2"
   ]
  },
  {
   "cell_type": "markdown",
   "id": "b3c12ec4",
   "metadata": {},
   "source": [
    "We computed the following values for $\\mu_5$"
   ]
  },
  {
   "cell_type": "code",
   "execution_count": 7,
   "id": "336d532f",
   "metadata": {},
   "outputs": [],
   "source": [
    "mu5_0 = 0.3\n",
    "mu5_1 = 0.7"
   ]
  },
  {
   "cell_type": "markdown",
   "id": "18f26d86",
   "metadata": {},
   "source": [
    "Now compute the values for $\\mu_9$:"
   ]
  },
  {
   "cell_type": "code",
   "execution_count": 9,
   "id": "25c1079a",
   "metadata": {},
   "outputs": [
    {
     "data": {
      "text/plain": [
       "0.39849999999999997"
      ]
     },
     "execution_count": 9,
     "metadata": {},
     "output_type": "execute_result"
    }
   ],
   "source": [
    "mu9_0 = 0.5*((1-thetaW00)*mu5_0 + (1-thetaW10)*mu5_0 + (1-thetaW01)*mu5_1 + (1-thetaW11)*mu5_1)\n",
    "mu9_0"
   ]
  },
  {
   "cell_type": "code",
   "execution_count": 10,
   "id": "b08c6d89",
   "metadata": {},
   "outputs": [
    {
     "data": {
      "text/plain": [
       "0.6014999999999999"
      ]
     },
     "execution_count": 10,
     "metadata": {},
     "output_type": "execute_result"
    }
   ],
   "source": [
    "mu9_1 = 0.5*(thetaW00*mu5_0 + thetaW10*mu5_0 + thetaW01*mu5_1 + thetaW11*mu5_1)\n",
    "mu9_1"
   ]
  },
  {
   "cell_type": "code",
   "execution_count": 12,
   "id": "60ee88cb",
   "metadata": {},
   "outputs": [
    {
     "data": {
      "text/plain": [
       "0.9999999999999999"
      ]
     },
     "execution_count": 12,
     "metadata": {},
     "output_type": "execute_result"
    }
   ],
   "source": [
    "mu9_0 + mu9_1"
   ]
  },
  {
   "cell_type": "markdown",
   "id": "c1d27a7a",
   "metadata": {},
   "source": [
    "Compute the message for $\\mu_{15}$"
   ]
  },
  {
   "cell_type": "code",
   "execution_count": 14,
   "id": "20d91be8",
   "metadata": {},
   "outputs": [
    {
     "data": {
      "text/plain": [
       "0.5872175"
      ]
     },
     "execution_count": 14,
     "metadata": {},
     "output_type": "execute_result"
    }
   ],
   "source": [
    "mu15_1 = 0.5*(thetaW00*mu9_0 + thetaW10*mu9_0 + thetaW01*mu9_1 + thetaW11*mu9_1)\n",
    "mu15_1"
   ]
  },
  {
   "cell_type": "code",
   "execution_count": 15,
   "id": "edf14554",
   "metadata": {},
   "outputs": [
    {
     "data": {
      "text/plain": [
       "0.41278250000000005"
      ]
     },
     "execution_count": 15,
     "metadata": {},
     "output_type": "execute_result"
    }
   ],
   "source": [
    "mu15_0 = 1 - mu15_1\n",
    "mu15_0"
   ]
  },
  {
   "cell_type": "code",
   "execution_count": 16,
   "id": "3c5a0f76",
   "metadata": {},
   "outputs": [
    {
     "name": "stdout",
     "output_type": "stream",
     "text": [
      "The desired probability is equal to 0.5872175\n"
     ]
    }
   ],
   "source": [
    "print(\"The desired probability is equal to\", mu15_1)"
   ]
  }
 ],
 "metadata": {
  "kernelspec": {
   "display_name": "Python 3 (ipykernel)",
   "language": "python",
   "name": "python3"
  },
  "language_info": {
   "codemirror_mode": {
    "name": "ipython",
    "version": 3
   },
   "file_extension": ".py",
   "mimetype": "text/x-python",
   "name": "python",
   "nbconvert_exporter": "python",
   "pygments_lexer": "ipython3",
   "version": "3.9.12"
  },
  "latex_envs": {
   "LaTeX_envs_menu_present": true,
   "autoclose": false,
   "autocomplete": true,
   "bibliofile": "biblio.bib",
   "cite_by": "apalike",
   "current_citInitial": 1,
   "eqLabelWithNumbers": true,
   "eqNumInitial": 1,
   "hotkeys": {
    "equation": "Ctrl-E",
    "itemize": "Ctrl-I"
   },
   "labels_anchors": false,
   "latex_user_defs": false,
   "report_style_numbering": false,
   "user_envs_cfg": false
  },
  "toc": {
   "base_numbering": 1,
   "nav_menu": {},
   "number_sections": true,
   "sideBar": true,
   "skip_h1_title": false,
   "title_cell": "Table of Contents",
   "title_sidebar": "Contents",
   "toc_cell": false,
   "toc_position": {},
   "toc_section_display": true,
   "toc_window_display": false
  }
 },
 "nbformat": 4,
 "nbformat_minor": 5
}
