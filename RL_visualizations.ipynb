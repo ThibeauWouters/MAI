{
 "cells": [
  {
   "cell_type": "markdown",
   "id": "9259e1f5",
   "metadata": {},
   "source": [
    "# Postprocessing RL results"
   ]
  },
  {
   "cell_type": "code",
   "execution_count": 1,
   "id": "ab6ad7a8",
   "metadata": {},
   "outputs": [],
   "source": [
    "import numpy as np\n",
    "import pandas as pd\n",
    "import matplotlib.pyplot as plt\n",
    "plt.rcParams.update({\n",
    "    \"text.usetex\": True,\n",
    "    \"font.family\": \"serif\",\n",
    "    \"font.serif\": [\"Computer Modern Roman\"],  # \"Times\", \"Palatino\", \"New Century Schoolbook\", \"Bookman\", \n",
    "    })\n",
    "import os"
   ]
  },
  {
   "cell_type": "markdown",
   "id": "626e152d",
   "metadata": {},
   "source": [
    "Agent names:"
   ]
  },
  {
   "cell_type": "code",
   "execution_count": 3,
   "id": "aed2a261",
   "metadata": {},
   "outputs": [],
   "source": [
    "agent_names = [\"MC_agent\", \"SARSA_agent\", \"Q_agent\"]\n",
    "colors = [\"blue\", \"red\", \"green\"]"
   ]
  },
  {
   "cell_type": "code",
   "execution_count": 16,
   "id": "c0321757",
   "metadata": {},
   "outputs": [],
   "source": [
    "def cumulative_average(arr):\n",
    "    \"\"\"\n",
    "    Computes a cumulative average of a given array.\n",
    "    \"\"\"\n",
    "    # Calculate cumulative sum\n",
    "    cum_sum = np.cumsum(arr)\n",
    "    # Create array of cumulative counts\n",
    "    cum_count = np.arange(1, len(arr) + 1)\n",
    "    \n",
    "    # Calculate cumulative average\n",
    "    return cum_sum / cum_count  "
   ]
  },
  {
   "cell_type": "code",
   "execution_count": 5,
   "id": "0724ae00",
   "metadata": {},
   "outputs": [],
   "source": [
    "def get_returns(room, filename = \"returns.csv\", use_avg = True):\n",
    "    \"\"\"\n",
    "    Gets the returns for a certain room for all three agents.\n",
    "    \"\"\"\n",
    "    returns = []\n",
    "    for name in agent_names:\n",
    "        val = np.loadtxt(f\"RL/Plots/{name}/{room}/{filename}\", names=\"Return\")\n",
    "        if use_avg:\n",
    "            val = cumulative_average(val)\n",
    "        returns.append(val)\n",
    "        \n",
    "    return np.array(returns)"
   ]
  },
  {
   "cell_type": "markdown",
   "id": "0e4df23c",
   "metadata": {},
   "source": [
    "# Comparing agents behaviour"
   ]
  },
  {
   "cell_type": "markdown",
   "id": "d9dbc9bc",
   "metadata": {},
   "source": [
    "## Empty room"
   ]
  },
  {
   "cell_type": "markdown",
   "id": "af194067",
   "metadata": {},
   "source": [
    "Plot their average returns"
   ]
  },
  {
   "cell_type": "code",
   "execution_count": 13,
   "id": "e13b346d",
   "metadata": {},
   "outputs": [],
   "source": [
    "df = np.loadtxt(\"RL/Plots/MC_agent/empty-room/returns.csv\")"
   ]
  },
  {
   "cell_type": "code",
   "execution_count": 15,
   "id": "ac2edea1",
   "metadata": {},
   "outputs": [
    {
     "data": {
      "text/plain": [
       "(1000,)"
      ]
     },
     "execution_count": 15,
     "metadata": {},
     "output_type": "execute_result"
    }
   ],
   "source": [
    "df.shape"
   ]
  },
  {
   "cell_type": "code",
   "execution_count": 6,
   "id": "98706760",
   "metadata": {},
   "outputs": [
    {
     "ename": "ValueError",
     "evalue": "setting an array element with a sequence. The requested array has an inhomogeneous shape after 1 dimensions. The detected shape was (3,) + inhomogeneous part.",
     "output_type": "error",
     "traceback": [
      "\u001b[1;31m---------------------------------------------------------------------------\u001b[0m",
      "\u001b[1;31mValueError\u001b[0m                                Traceback (most recent call last)",
      "Cell \u001b[1;32mIn[6], line 1\u001b[0m\n\u001b[1;32m----> 1\u001b[0m returns \u001b[38;5;241m=\u001b[39m \u001b[43mget_returns\u001b[49m\u001b[43m(\u001b[49m\u001b[38;5;124;43m\"\u001b[39;49m\u001b[38;5;124;43mempty-room\u001b[39;49m\u001b[38;5;124;43m\"\u001b[39;49m\u001b[43m)\u001b[49m\n\u001b[0;32m      2\u001b[0m \u001b[38;5;28mprint\u001b[39m(returns)\n",
      "Cell \u001b[1;32mIn[5], line 10\u001b[0m, in \u001b[0;36mget_returns\u001b[1;34m(room, filename)\u001b[0m\n\u001b[0;32m      7\u001b[0m     val \u001b[38;5;241m=\u001b[39m pd\u001b[38;5;241m.\u001b[39mread_csv(\u001b[38;5;124mf\u001b[39m\u001b[38;5;124m\"\u001b[39m\u001b[38;5;124mRL/Plots/\u001b[39m\u001b[38;5;132;01m{\u001b[39;00mname\u001b[38;5;132;01m}\u001b[39;00m\u001b[38;5;124m/\u001b[39m\u001b[38;5;132;01m{\u001b[39;00mroom\u001b[38;5;132;01m}\u001b[39;00m\u001b[38;5;124m/\u001b[39m\u001b[38;5;132;01m{\u001b[39;00mfilename\u001b[38;5;132;01m}\u001b[39;00m\u001b[38;5;124m\"\u001b[39m)\n\u001b[0;32m      8\u001b[0m     returns\u001b[38;5;241m.\u001b[39mappend(val)\n\u001b[1;32m---> 10\u001b[0m \u001b[38;5;28;01mreturn\u001b[39;00m \u001b[43mnp\u001b[49m\u001b[38;5;241;43m.\u001b[39;49m\u001b[43marray\u001b[49m\u001b[43m(\u001b[49m\u001b[43mreturns\u001b[49m\u001b[43m)\u001b[49m\n",
      "\u001b[1;31mValueError\u001b[0m: setting an array element with a sequence. The requested array has an inhomogeneous shape after 1 dimensions. The detected shape was (3,) + inhomogeneous part."
     ]
    }
   ],
   "source": [
    "returns = get_returns(\"empty-room\")\n",
    "print(returns)"
   ]
  },
  {
   "cell_type": "code",
   "execution_count": null,
   "id": "c9b9ffa8",
   "metadata": {},
   "outputs": [],
   "source": []
  }
 ],
 "metadata": {
  "kernelspec": {
   "display_name": "Python 3 (ipykernel)",
   "language": "python",
   "name": "python3"
  },
  "language_info": {
   "codemirror_mode": {
    "name": "ipython",
    "version": 3
   },
   "file_extension": ".py",
   "mimetype": "text/x-python",
   "name": "python",
   "nbconvert_exporter": "python",
   "pygments_lexer": "ipython3",
   "version": "3.9.12"
  },
  "toc": {
   "base_numbering": 1,
   "nav_menu": {},
   "number_sections": true,
   "sideBar": true,
   "skip_h1_title": false,
   "title_cell": "Table of Contents",
   "title_sidebar": "Contents",
   "toc_cell": false,
   "toc_position": {},
   "toc_section_display": true,
   "toc_window_display": false
  }
 },
 "nbformat": 4,
 "nbformat_minor": 5
}
