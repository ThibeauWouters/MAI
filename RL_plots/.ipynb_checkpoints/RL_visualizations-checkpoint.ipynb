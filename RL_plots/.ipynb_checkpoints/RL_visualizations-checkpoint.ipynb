{
 "cells": [
  {
   "cell_type": "markdown",
   "id": "9259e1f5",
   "metadata": {},
   "source": [
    "# Postprocessing RL results"
   ]
  },
  {
   "cell_type": "code",
   "execution_count": 1,
   "id": "ab6ad7a8",
   "metadata": {},
   "outputs": [],
   "source": [
    "import numpy as np\n",
    "import pandas as pd\n",
    "import matplotlib.pyplot as plt\n",
    "plt.rcParams.update({\n",
    "    \"text.usetex\": True,\n",
    "    \"font.family\": \"serif\",\n",
    "    \"font.serif\": [\"Computer Modern Roman\"],  # \"Times\", \"Palatino\", \"New Century Schoolbook\", \"Bookman\", \n",
    "    \"axes.labelsize\": 14\n",
    "    })\n",
    "import os\n",
    "from PIL import Image"
   ]
  },
  {
   "cell_type": "markdown",
   "id": "5b35f614",
   "metadata": {},
   "source": [
    "Agent names:"
   ]
  },
  {
   "cell_type": "code",
   "execution_count": 2,
   "id": "157e5922",
   "metadata": {},
   "outputs": [],
   "source": [
    "agent_names = [\"MC_agent\", \"SARSA_agent\", \"Q_agent\"]\n",
    "labels = [\"MC\", \"SARSA\", \"Q\"]\n",
    "colors = [\"blue\", \"red\", \"green\"]"
   ]
  },
  {
   "cell_type": "code",
   "execution_count": 3,
   "id": "d45156b0",
   "metadata": {},
   "outputs": [],
   "source": [
    "def cumulative_average(arr):\n",
    "    \"\"\"\n",
    "    Computes a cumulative average of a given array.\n",
    "    \"\"\"\n",
    "    # Calculate cumulative sum\n",
    "    cum_sum = np.cumsum(arr)\n",
    "    # Create array of cumulative counts\n",
    "    cum_count = np.arange(1, len(arr) + 1)\n",
    "    \n",
    "    # Calculate cumulative average\n",
    "    return cum_sum / cum_count  "
   ]
  },
  {
   "cell_type": "code",
   "execution_count": 4,
   "id": "7448bed1",
   "metadata": {},
   "outputs": [],
   "source": [
    "# def get_returns(room, n_episodes=1000, agent_names=[\"MC_agent\", \"SARSA_agent\", \"Q_agent\"], filename = \"returns.csv\", use_avg = True):\n",
    "#     \"\"\"\n",
    "#     Gets the returns for a certain room for all three agents.\n",
    "#     \"\"\"\n",
    "#     returns = np.zeros((len(agent_names), n_episodes))\n",
    "#     for i, name in enumerate(agent_names):\n",
    "#         val = np.loadtxt(f\"RL/Plots/{name}/{room}/{filename}\")\n",
    "#         if use_avg:\n",
    "#             val = cumulative_average(val)\n",
    "#         returns[i] = val\n",
    "        \n",
    "#     return np.array(returns)"
   ]
  },
  {
   "cell_type": "code",
   "execution_count": 4,
   "id": "f6f77da3",
   "metadata": {},
   "outputs": [],
   "source": [
    "def get_returns(agent, room):\n",
    "    return np.loadtxt(f\"../RL/Plots/{agent}/{room}/returns.txt\")"
   ]
  },
  {
   "cell_type": "code",
   "execution_count": 5,
   "id": "bff88de7",
   "metadata": {},
   "outputs": [],
   "source": [
    "import re\n",
    "\n",
    "def tryint(s):\n",
    "    try:\n",
    "        return int(s)\n",
    "    except:\n",
    "        return s\n",
    "\n",
    "def alphanum_key(s):\n",
    "    \"\"\" Turn a string into a list of string and number chunks.\n",
    "        \"z23a\" -> [\"z\", 23, \"a\"]\n",
    "    \"\"\"\n",
    "    return [ tryint(c) for c in re.split('([0-9]+)', s) ]\n",
    "\n",
    "def sort_nicely(l):\n",
    "    \"\"\" Sort the given list in the way that humans expect.\n",
    "    \"\"\"\n",
    "    l.sort(key=alphanum_key)"
   ]
  },
  {
   "cell_type": "code",
   "execution_count": 6,
   "id": "d9833d78",
   "metadata": {},
   "outputs": [],
   "source": [
    "def create_gif(agent_name, room_id, picture_name = \"visualization\"):\n",
    "    \n",
    "    plots_location = f\"RL/Plots/{agent_name}/{room_id}/plots/\"\n",
    "    save_location = f\"RL_plots/gifs/{agent_name}_{room_id}_{picture_name}.gif\"\n",
    "    \n",
    "    # Get the files, sort numerically, and only keep either visualization or Q plot\n",
    "    all_files = os.listdir(plots_location)\n",
    "    sort_nicely(all_files)\n",
    "    files = [] \n",
    "    for f in all_files:\n",
    "        if picture_name in f:\n",
    "            files.append(os.path.join(plots_location, f))\n",
    "    \n",
    "    frames = [Image.open(image) for image in files]\n",
    "    \n",
    "    frame_one = frames[0]\n",
    "    print(f\"Saving gif to {save_location}\")\n",
    "    frame_one.save(save_location, format=\"GIF\", append_images=frames, save_all=True, duration=1000, loop=0)"
   ]
  },
  {
   "cell_type": "code",
   "execution_count": 7,
   "id": "729d4e27",
   "metadata": {},
   "outputs": [],
   "source": [
    "ticks_fs = 14\n",
    "labels_fs = 16\n",
    "avg_returns_figsize = (10, 2)"
   ]
  },
  {
   "cell_type": "markdown",
   "id": "34a0c5a2",
   "metadata": {},
   "source": [
    "# $\\texttt{RandomAgent}$"
   ]
  },
  {
   "cell_type": "code",
   "execution_count": 23,
   "id": "02900168",
   "metadata": {},
   "outputs": [
    {
     "data": {
      "image/png": "[encoded data removed]",
      "text/plain": [
       "<Figure size 1000x200 with 1 Axes>"
      ]
     },
     "metadata": {},
     "output_type": "display_data"
    }
   ],
   "source": [
    "returns = np.loadtxt(\"RL/Plots/random_agent/returns.csv\")\n",
    "plt.figure(figsize=avg_returns_figsize)\n",
    "plt.plot([i+1 for i in range(len(returns))], returns, \"-\", color=\"blue\")\n",
    "plt.grid()\n",
    "plt.xlabel(\"Epochs\", fontsize=labels_fs)\n",
    "plt.ylabel(\"Average return\", fontsize=labels_fs)\n",
    "plt.xticks(fontsize=ticks_fs)\n",
    "plt.yticks(fontsize=ticks_fs)\n",
    "plt.savefig(\"RL_plots/random_agent_average_returns.pdf\", bbox_inches = 'tight')\n",
    "plt.show()"
   ]
  },
  {
   "cell_type": "code",
   "execution_count": 12,
   "id": "a09870cb",
   "metadata": {},
   "outputs": [
    {
     "data": {
      "text/plain": [
       "-43.6583"
      ]
     },
     "execution_count": 12,
     "metadata": {},
     "output_type": "execute_result"
    }
   ],
   "source": [
    "returns[-1]"
   ]
  },
  {
   "cell_type": "markdown",
   "id": "730121de",
   "metadata": {},
   "source": [
    "# Comparing agents behaviour"
   ]
  },
  {
   "cell_type": "markdown",
   "id": "4aeff92c",
   "metadata": {},
   "source": [
    "## Empty room"
   ]
  },
  {
   "cell_type": "code",
   "execution_count": 10,
   "id": "395b079b",
   "metadata": {},
   "outputs": [
    {
     "ename": "FileNotFoundError",
     "evalue": "../RL/Plots/MC_agent/empty-room/returns.txt not found.",
     "output_type": "error",
     "traceback": [
      "\u001b[1;31m---------------------------------------------------------------------------\u001b[0m",
      "\u001b[1;31mFileNotFoundError\u001b[0m                         Traceback (most recent call last)",
      "Cell \u001b[1;32mIn[10], line 3\u001b[0m\n\u001b[0;32m      1\u001b[0m plt\u001b[38;5;241m.\u001b[39mfigure(figsize\u001b[38;5;241m=\u001b[39mavg_returns_figsize)\n\u001b[0;32m      2\u001b[0m \u001b[38;5;28;01mfor\u001b[39;00m agent \u001b[38;5;129;01min\u001b[39;00m agent_names:\n\u001b[1;32m----> 3\u001b[0m     returns \u001b[38;5;241m=\u001b[39m \u001b[43mget_returns\u001b[49m\u001b[43m(\u001b[49m\u001b[43magent\u001b[49m\u001b[43m,\u001b[49m\u001b[43m \u001b[49m\u001b[38;5;124;43m\"\u001b[39;49m\u001b[38;5;124;43mempty-room\u001b[39;49m\u001b[38;5;124;43m\"\u001b[39;49m\u001b[43m)\u001b[49m\n\u001b[0;32m      4\u001b[0m     plt\u001b[38;5;241m.\u001b[39mplot(returns, color\u001b[38;5;241m=\u001b[39mcolors[i], label\u001b[38;5;241m=\u001b[39mlabels[i])\n\u001b[0;32m      5\u001b[0m plt\u001b[38;5;241m.\u001b[39mgrid()\n",
      "Cell \u001b[1;32mIn[4], line 2\u001b[0m, in \u001b[0;36mget_returns\u001b[1;34m(agent, room)\u001b[0m\n\u001b[0;32m      1\u001b[0m \u001b[38;5;28;01mdef\u001b[39;00m \u001b[38;5;21mget_returns\u001b[39m(agent, room):\n\u001b[1;32m----> 2\u001b[0m     \u001b[38;5;28;01mreturn\u001b[39;00m \u001b[43mnp\u001b[49m\u001b[38;5;241;43m.\u001b[39;49m\u001b[43mloadtxt\u001b[49m\u001b[43m(\u001b[49m\u001b[38;5;124;43mf\u001b[39;49m\u001b[38;5;124;43m\"\u001b[39;49m\u001b[38;5;124;43m../RL/Plots/\u001b[39;49m\u001b[38;5;132;43;01m{\u001b[39;49;00m\u001b[43magent\u001b[49m\u001b[38;5;132;43;01m}\u001b[39;49;00m\u001b[38;5;124;43m/\u001b[39;49m\u001b[38;5;132;43;01m{\u001b[39;49;00m\u001b[43mroom\u001b[49m\u001b[38;5;132;43;01m}\u001b[39;49;00m\u001b[38;5;124;43m/returns.txt\u001b[39;49m\u001b[38;5;124;43m\"\u001b[39;49m\u001b[43m)\u001b[49m\n",
      "File \u001b[1;32mD:\\Anaconda3\\lib\\site-packages\\numpy\\lib\\npyio.py:1356\u001b[0m, in \u001b[0;36mloadtxt\u001b[1;34m(fname, dtype, comments, delimiter, converters, skiprows, usecols, unpack, ndmin, encoding, max_rows, quotechar, like)\u001b[0m\n\u001b[0;32m   1353\u001b[0m \u001b[38;5;28;01mif\u001b[39;00m \u001b[38;5;28misinstance\u001b[39m(delimiter, \u001b[38;5;28mbytes\u001b[39m):\n\u001b[0;32m   1354\u001b[0m     delimiter \u001b[38;5;241m=\u001b[39m delimiter\u001b[38;5;241m.\u001b[39mdecode(\u001b[38;5;124m'\u001b[39m\u001b[38;5;124mlatin1\u001b[39m\u001b[38;5;124m'\u001b[39m)\n\u001b[1;32m-> 1356\u001b[0m arr \u001b[38;5;241m=\u001b[39m \u001b[43m_read\u001b[49m\u001b[43m(\u001b[49m\u001b[43mfname\u001b[49m\u001b[43m,\u001b[49m\u001b[43m \u001b[49m\u001b[43mdtype\u001b[49m\u001b[38;5;241;43m=\u001b[39;49m\u001b[43mdtype\u001b[49m\u001b[43m,\u001b[49m\u001b[43m \u001b[49m\u001b[43mcomment\u001b[49m\u001b[38;5;241;43m=\u001b[39;49m\u001b[43mcomment\u001b[49m\u001b[43m,\u001b[49m\u001b[43m \u001b[49m\u001b[43mdelimiter\u001b[49m\u001b[38;5;241;43m=\u001b[39;49m\u001b[43mdelimiter\u001b[49m\u001b[43m,\u001b[49m\n\u001b[0;32m   1357\u001b[0m \u001b[43m            \u001b[49m\u001b[43mconverters\u001b[49m\u001b[38;5;241;43m=\u001b[39;49m\u001b[43mconverters\u001b[49m\u001b[43m,\u001b[49m\u001b[43m \u001b[49m\u001b[43mskiplines\u001b[49m\u001b[38;5;241;43m=\u001b[39;49m\u001b[43mskiprows\u001b[49m\u001b[43m,\u001b[49m\u001b[43m \u001b[49m\u001b[43musecols\u001b[49m\u001b[38;5;241;43m=\u001b[39;49m\u001b[43musecols\u001b[49m\u001b[43m,\u001b[49m\n\u001b[0;32m   1358\u001b[0m \u001b[43m            \u001b[49m\u001b[43munpack\u001b[49m\u001b[38;5;241;43m=\u001b[39;49m\u001b[43munpack\u001b[49m\u001b[43m,\u001b[49m\u001b[43m \u001b[49m\u001b[43mndmin\u001b[49m\u001b[38;5;241;43m=\u001b[39;49m\u001b[43mndmin\u001b[49m\u001b[43m,\u001b[49m\u001b[43m \u001b[49m\u001b[43mencoding\u001b[49m\u001b[38;5;241;43m=\u001b[39;49m\u001b[43mencoding\u001b[49m\u001b[43m,\u001b[49m\n\u001b[0;32m   1359\u001b[0m \u001b[43m            \u001b[49m\u001b[43mmax_rows\u001b[49m\u001b[38;5;241;43m=\u001b[39;49m\u001b[43mmax_rows\u001b[49m\u001b[43m,\u001b[49m\u001b[43m \u001b[49m\u001b[43mquote\u001b[49m\u001b[38;5;241;43m=\u001b[39;49m\u001b[43mquotechar\u001b[49m\u001b[43m)\u001b[49m\n\u001b[0;32m   1361\u001b[0m \u001b[38;5;28;01mreturn\u001b[39;00m arr\n",
      "File \u001b[1;32mD:\\Anaconda3\\lib\\site-packages\\numpy\\lib\\npyio.py:975\u001b[0m, in \u001b[0;36m_read\u001b[1;34m(fname, delimiter, comment, quote, imaginary_unit, usecols, skiplines, max_rows, converters, ndmin, unpack, dtype, encoding)\u001b[0m\n\u001b[0;32m    973\u001b[0m     fname \u001b[38;5;241m=\u001b[39m os\u001b[38;5;241m.\u001b[39mfspath(fname)\n\u001b[0;32m    974\u001b[0m \u001b[38;5;28;01mif\u001b[39;00m \u001b[38;5;28misinstance\u001b[39m(fname, \u001b[38;5;28mstr\u001b[39m):\n\u001b[1;32m--> 975\u001b[0m     fh \u001b[38;5;241m=\u001b[39m \u001b[43mnp\u001b[49m\u001b[38;5;241;43m.\u001b[39;49m\u001b[43mlib\u001b[49m\u001b[38;5;241;43m.\u001b[39;49m\u001b[43m_datasource\u001b[49m\u001b[38;5;241;43m.\u001b[39;49m\u001b[43mopen\u001b[49m\u001b[43m(\u001b[49m\u001b[43mfname\u001b[49m\u001b[43m,\u001b[49m\u001b[43m \u001b[49m\u001b[38;5;124;43m'\u001b[39;49m\u001b[38;5;124;43mrt\u001b[39;49m\u001b[38;5;124;43m'\u001b[39;49m\u001b[43m,\u001b[49m\u001b[43m \u001b[49m\u001b[43mencoding\u001b[49m\u001b[38;5;241;43m=\u001b[39;49m\u001b[43mencoding\u001b[49m\u001b[43m)\u001b[49m\n\u001b[0;32m    976\u001b[0m     \u001b[38;5;28;01mif\u001b[39;00m encoding \u001b[38;5;129;01mis\u001b[39;00m \u001b[38;5;28;01mNone\u001b[39;00m:\n\u001b[0;32m    977\u001b[0m         encoding \u001b[38;5;241m=\u001b[39m \u001b[38;5;28mgetattr\u001b[39m(fh, \u001b[38;5;124m'\u001b[39m\u001b[38;5;124mencoding\u001b[39m\u001b[38;5;124m'\u001b[39m, \u001b[38;5;124m'\u001b[39m\u001b[38;5;124mlatin1\u001b[39m\u001b[38;5;124m'\u001b[39m)\n",
      "File \u001b[1;32mD:\\Anaconda3\\lib\\site-packages\\numpy\\lib\\_datasource.py:193\u001b[0m, in \u001b[0;36mopen\u001b[1;34m(path, mode, destpath, encoding, newline)\u001b[0m\n\u001b[0;32m    156\u001b[0m \u001b[38;5;250m\u001b[39m\u001b[38;5;124;03m\"\"\"\u001b[39;00m\n\u001b[0;32m    157\u001b[0m \u001b[38;5;124;03mOpen `path` with `mode` and return the file object.\u001b[39;00m\n\u001b[0;32m    158\u001b[0m \n\u001b[1;32m   (...)\u001b[0m\n\u001b[0;32m    189\u001b[0m \n\u001b[0;32m    190\u001b[0m \u001b[38;5;124;03m\"\"\"\u001b[39;00m\n\u001b[0;32m    192\u001b[0m ds \u001b[38;5;241m=\u001b[39m DataSource(destpath)\n\u001b[1;32m--> 193\u001b[0m \u001b[38;5;28;01mreturn\u001b[39;00m \u001b[43mds\u001b[49m\u001b[38;5;241;43m.\u001b[39;49m\u001b[43mopen\u001b[49m\u001b[43m(\u001b[49m\u001b[43mpath\u001b[49m\u001b[43m,\u001b[49m\u001b[43m \u001b[49m\u001b[43mmode\u001b[49m\u001b[43m,\u001b[49m\u001b[43m \u001b[49m\u001b[43mencoding\u001b[49m\u001b[38;5;241;43m=\u001b[39;49m\u001b[43mencoding\u001b[49m\u001b[43m,\u001b[49m\u001b[43m \u001b[49m\u001b[43mnewline\u001b[49m\u001b[38;5;241;43m=\u001b[39;49m\u001b[43mnewline\u001b[49m\u001b[43m)\u001b[49m\n",
      "File \u001b[1;32mD:\\Anaconda3\\lib\\site-packages\\numpy\\lib\\_datasource.py:533\u001b[0m, in \u001b[0;36mDataSource.open\u001b[1;34m(self, path, mode, encoding, newline)\u001b[0m\n\u001b[0;32m    530\u001b[0m     \u001b[38;5;28;01mreturn\u001b[39;00m _file_openers[ext](found, mode\u001b[38;5;241m=\u001b[39mmode,\n\u001b[0;32m    531\u001b[0m                               encoding\u001b[38;5;241m=\u001b[39mencoding, newline\u001b[38;5;241m=\u001b[39mnewline)\n\u001b[0;32m    532\u001b[0m \u001b[38;5;28;01melse\u001b[39;00m:\n\u001b[1;32m--> 533\u001b[0m     \u001b[38;5;28;01mraise\u001b[39;00m \u001b[38;5;167;01mFileNotFoundError\u001b[39;00m(\u001b[38;5;124mf\u001b[39m\u001b[38;5;124m\"\u001b[39m\u001b[38;5;132;01m{\u001b[39;00mpath\u001b[38;5;132;01m}\u001b[39;00m\u001b[38;5;124m not found.\u001b[39m\u001b[38;5;124m\"\u001b[39m)\n",
      "\u001b[1;31mFileNotFoundError\u001b[0m: ../RL/Plots/MC_agent/empty-room/returns.txt not found."
     ]
    },
    {
     "data": {
      "text/plain": [
       "<Figure size 1000x200 with 0 Axes>"
      ]
     },
     "metadata": {},
     "output_type": "display_data"
    }
   ],
   "source": [
    "plt.figure(figsize=avg_returns_figsize)\n",
    "for agent in agent_names:\n",
    "    returns = get_returns(agent, \"empty-room\")\n",
    "    plt.plot(returns, color=colors[i], label=labels[i])\n",
    "plt.grid()\n",
    "plt.xlabel(\"Epoch\")\n",
    "plt.ylabel(\"Average return\")\n",
    "plt.xticks(fontsize=ticks_fs)\n",
    "plt.yticks(fontsize=ticks_fs)\n",
    "plt.savefig(\"empty_room.pdf\", bbox_inches = 'tight')\n",
    "plt.show()"
   ]
  },
  {
   "cell_type": "markdown",
   "id": "b2c957a0",
   "metadata": {},
   "source": [
    "# GIFs"
   ]
  },
  {
   "cell_type": "code",
   "execution_count": 9,
   "id": "3d4e248e",
   "metadata": {},
   "outputs": [
    {
     "name": "stdout",
     "output_type": "stream",
     "text": [
      "Saving gif to RL_plots/gifs/SARSA_agent_empty-room_visualization.gif\n",
      "Saving gif to RL_plots/gifs/SARSA_agent_room-with-lava_visualization.gif\n",
      "Saving gif to RL_plots/gifs/SARSA_agent_cliff-minihack_visualization.gif\n",
      "Saving gif to RL_plots/gifs/SARSA_agent_room-with-monster_visualization.gif\n",
      "Saving gif to RL_plots/gifs/Q_agent_empty-room_visualization.gif\n",
      "Saving gif to RL_plots/gifs/Q_agent_room-with-lava_visualization.gif\n",
      "Saving gif to RL_plots/gifs/Q_agent_cliff-minihack_visualization.gif\n",
      "Saving gif to RL_plots/gifs/Q_agent_room-with-monster_visualization.gif\n"
     ]
    }
   ],
   "source": [
    "for agent_name in [\"SARSA_agent\", \"Q_agent\"]:\n",
    "    for room_name in [\"empty-room\", \"room-with-lava\", \"cliff-minihack\", \"room-with-monster\"]:\n",
    "        create_gif(agent_name, room_name)"
   ]
  },
  {
   "cell_type": "code",
   "execution_count": null,
   "id": "3d6e257a",
   "metadata": {},
   "outputs": [],
   "source": []
  }
 ],
 "metadata": {
  "kernelspec": {
   "display_name": "Python 3 (ipykernel)",
   "language": "python",
   "name": "python3"
  },
  "language_info": {
   "codemirror_mode": {
    "name": "ipython",
    "version": 3
   },
   "file_extension": ".py",
   "mimetype": "text/x-python",
   "name": "python",
   "nbconvert_exporter": "python",
   "pygments_lexer": "ipython3",
   "version": "3.9.12"
  },
  "toc": {
   "base_numbering": 1,
   "nav_menu": {},
   "number_sections": true,
   "sideBar": true,
   "skip_h1_title": false,
   "title_cell": "Table of Contents",
   "title_sidebar": "Contents",
   "toc_cell": false,
   "toc_position": {},
   "toc_section_display": true,
   "toc_window_display": false
  }
 },
 "nbformat": 4,
 "nbformat_minor": 5
}
